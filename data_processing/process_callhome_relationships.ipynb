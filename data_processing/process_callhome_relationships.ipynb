{
 "cells": [
  {
   "cell_type": "code",
   "execution_count": 13,
   "metadata": {},
   "outputs": [],
   "source": [
    "import pandas as pd\n",
    "import os\n",
    "from datasets import Dataset\n",
    "from datasets import Audio\n",
    "from dotenv import load_dotenv"
   ]
  },
  {
   "cell_type": "code",
   "execution_count": 14,
   "metadata": {},
   "outputs": [
    {
     "data": {
      "text/plain": [
       "True"
      ]
     },
     "execution_count": 14,
     "metadata": {},
     "output_type": "execute_result"
    }
   ],
   "source": [
    "DATASET_PATH = \"../_data/callhome/\"\n",
    "load_dotenv()"
   ]
  },
  {
   "cell_type": "markdown",
   "metadata": {},
   "source": [
    "# Load the Files"
   ]
  },
  {
   "cell_type": "code",
   "execution_count": 15,
   "metadata": {},
   "outputs": [],
   "source": [
    "df = pd.read_csv(os.path.join(DATASET_PATH, 'CallhomeRelationshipLabels_FULL_LIST.csv'))"
   ]
  },
  {
   "cell_type": "code",
   "execution_count": 16,
   "metadata": {},
   "outputs": [
    {
     "data": {
      "text/html": [
       "<div>\n",
       "<style scoped>\n",
       "    .dataframe tbody tr th:only-of-type {\n",
       "        vertical-align: middle;\n",
       "    }\n",
       "\n",
       "    .dataframe tbody tr th {\n",
       "        vertical-align: top;\n",
       "    }\n",
       "\n",
       "    .dataframe thead th {\n",
       "        text-align: right;\n",
       "    }\n",
       "</style>\n",
       "<table border=\"1\" class=\"dataframe\">\n",
       "  <thead>\n",
       "    <tr style=\"text-align: right;\">\n",
       "      <th></th>\n",
       "      <th>Filename</th>\n",
       "      <th>Speaker A - Primary</th>\n",
       "      <th>Speaker B - Primary</th>\n",
       "      <th>Speaker A - Secondary</th>\n",
       "      <th>Speaker B - Secondary</th>\n",
       "      <th>Speaker A - NOTES</th>\n",
       "      <th>Speaker B - NOTES</th>\n",
       "    </tr>\n",
       "  </thead>\n",
       "  <tbody>\n",
       "    <tr>\n",
       "      <th>0</th>\n",
       "      <td>en_4065.txt</td>\n",
       "      <td>FRIEND</td>\n",
       "      <td>FRIEND</td>\n",
       "      <td>FRIEND</td>\n",
       "      <td>FRIEND</td>\n",
       "      <td>FRIEND/COLLEAGUE</td>\n",
       "      <td>FRIEND/COLLEAGUE</td>\n",
       "    </tr>\n",
       "    <tr>\n",
       "      <th>1</th>\n",
       "      <td>en_4074.txt</td>\n",
       "      <td>FRIEND</td>\n",
       "      <td>FRIEND</td>\n",
       "      <td>FRIEND</td>\n",
       "      <td>FRIEND</td>\n",
       "      <td>FRIEND</td>\n",
       "      <td>FRIEND</td>\n",
       "    </tr>\n",
       "    <tr>\n",
       "      <th>2</th>\n",
       "      <td>en_4077.txt</td>\n",
       "      <td>RELATIVE</td>\n",
       "      <td>RELATIVE</td>\n",
       "      <td>SISTER</td>\n",
       "      <td>SISTER</td>\n",
       "      <td>SIBLING/SISTER</td>\n",
       "      <td>SIBLING/SISTER</td>\n",
       "    </tr>\n",
       "    <tr>\n",
       "      <th>3</th>\n",
       "      <td>en_4092.txt</td>\n",
       "      <td>RELATIVE</td>\n",
       "      <td>RELATIVE</td>\n",
       "      <td>SISTER</td>\n",
       "      <td>SISTER</td>\n",
       "      <td>SIBLING/SISTER</td>\n",
       "      <td>SIBLING/SISTER</td>\n",
       "    </tr>\n",
       "    <tr>\n",
       "      <th>4</th>\n",
       "      <td>en_4093.txt</td>\n",
       "      <td>FRIEND</td>\n",
       "      <td>FRIEND</td>\n",
       "      <td>FRIEND</td>\n",
       "      <td>FRIEND</td>\n",
       "      <td>FRIEND</td>\n",
       "      <td>FRIEND</td>\n",
       "    </tr>\n",
       "  </tbody>\n",
       "</table>\n",
       "</div>"
      ],
      "text/plain": [
       "      Filename Speaker A - Primary Speaker B - Primary Speaker A - Secondary  \\\n",
       "0  en_4065.txt              FRIEND              FRIEND                FRIEND   \n",
       "1  en_4074.txt              FRIEND              FRIEND                FRIEND   \n",
       "2  en_4077.txt            RELATIVE            RELATIVE                SISTER   \n",
       "3  en_4092.txt            RELATIVE            RELATIVE                SISTER   \n",
       "4  en_4093.txt              FRIEND              FRIEND                FRIEND   \n",
       "\n",
       "  Speaker B - Secondary Speaker A - NOTES Speaker B - NOTES   \n",
       "0                FRIEND  FRIEND/COLLEAGUE   FRIEND/COLLEAGUE  \n",
       "1                FRIEND            FRIEND             FRIEND  \n",
       "2                SISTER    SIBLING/SISTER     SIBLING/SISTER  \n",
       "3                SISTER    SIBLING/SISTER     SIBLING/SISTER  \n",
       "4                FRIEND            FRIEND             FRIEND  "
      ]
     },
     "execution_count": 16,
     "metadata": {},
     "output_type": "execute_result"
    }
   ],
   "source": [
    "df.head()"
   ]
  },
  {
   "cell_type": "code",
   "execution_count": 17,
   "metadata": {},
   "outputs": [
    {
     "data": {
      "text/plain": [
       "['4802.mp3', '4157.mp3', '4792.mp3', '4547.mp3', '4234.mp3']"
      ]
     },
     "execution_count": 17,
     "metadata": {},
     "output_type": "execute_result"
    }
   ],
   "source": [
    "files = os.listdir(os.path.join(DATASET_PATH,'audio'))\n",
    "files[:5]"
   ]
  },
  {
   "cell_type": "code",
   "execution_count": 18,
   "metadata": {},
   "outputs": [
    {
     "name": "stdout",
     "output_type": "stream",
     "text": [
      "Found 120 files out of 120 in the dataset.\n"
     ]
    },
    {
     "data": {
      "text/html": [
       "<div>\n",
       "<style scoped>\n",
       "    .dataframe tbody tr th:only-of-type {\n",
       "        vertical-align: middle;\n",
       "    }\n",
       "\n",
       "    .dataframe tbody tr th {\n",
       "        vertical-align: top;\n",
       "    }\n",
       "\n",
       "    .dataframe thead th {\n",
       "        text-align: right;\n",
       "    }\n",
       "</style>\n",
       "<table border=\"1\" class=\"dataframe\">\n",
       "  <thead>\n",
       "    <tr style=\"text-align: right;\">\n",
       "      <th></th>\n",
       "      <th>Filename</th>\n",
       "      <th>Speaker A - Primary</th>\n",
       "      <th>Speaker B - Primary</th>\n",
       "      <th>Speaker A - Secondary</th>\n",
       "      <th>Speaker B - Secondary</th>\n",
       "      <th>Speaker A - NOTES</th>\n",
       "      <th>Speaker B - NOTES</th>\n",
       "      <th>audio</th>\n",
       "    </tr>\n",
       "  </thead>\n",
       "  <tbody>\n",
       "    <tr>\n",
       "      <th>0</th>\n",
       "      <td>en_4065.txt</td>\n",
       "      <td>FRIEND</td>\n",
       "      <td>FRIEND</td>\n",
       "      <td>FRIEND</td>\n",
       "      <td>FRIEND</td>\n",
       "      <td>FRIEND/COLLEAGUE</td>\n",
       "      <td>FRIEND/COLLEAGUE</td>\n",
       "      <td>../_data/callhome/audio/4065.mp3</td>\n",
       "    </tr>\n",
       "    <tr>\n",
       "      <th>1</th>\n",
       "      <td>en_4074.txt</td>\n",
       "      <td>FRIEND</td>\n",
       "      <td>FRIEND</td>\n",
       "      <td>FRIEND</td>\n",
       "      <td>FRIEND</td>\n",
       "      <td>FRIEND</td>\n",
       "      <td>FRIEND</td>\n",
       "      <td>../_data/callhome/audio/4074.mp3</td>\n",
       "    </tr>\n",
       "    <tr>\n",
       "      <th>2</th>\n",
       "      <td>en_4077.txt</td>\n",
       "      <td>RELATIVE</td>\n",
       "      <td>RELATIVE</td>\n",
       "      <td>SISTER</td>\n",
       "      <td>SISTER</td>\n",
       "      <td>SIBLING/SISTER</td>\n",
       "      <td>SIBLING/SISTER</td>\n",
       "      <td>../_data/callhome/audio/4077.mp3</td>\n",
       "    </tr>\n",
       "    <tr>\n",
       "      <th>3</th>\n",
       "      <td>en_4092.txt</td>\n",
       "      <td>RELATIVE</td>\n",
       "      <td>RELATIVE</td>\n",
       "      <td>SISTER</td>\n",
       "      <td>SISTER</td>\n",
       "      <td>SIBLING/SISTER</td>\n",
       "      <td>SIBLING/SISTER</td>\n",
       "      <td>../_data/callhome/audio/4092.mp3</td>\n",
       "    </tr>\n",
       "    <tr>\n",
       "      <th>4</th>\n",
       "      <td>en_4093.txt</td>\n",
       "      <td>FRIEND</td>\n",
       "      <td>FRIEND</td>\n",
       "      <td>FRIEND</td>\n",
       "      <td>FRIEND</td>\n",
       "      <td>FRIEND</td>\n",
       "      <td>FRIEND</td>\n",
       "      <td>../_data/callhome/audio/4093.mp3</td>\n",
       "    </tr>\n",
       "  </tbody>\n",
       "</table>\n",
       "</div>"
      ],
      "text/plain": [
       "      Filename Speaker A - Primary Speaker B - Primary Speaker A - Secondary  \\\n",
       "0  en_4065.txt              FRIEND              FRIEND                FRIEND   \n",
       "1  en_4074.txt              FRIEND              FRIEND                FRIEND   \n",
       "2  en_4077.txt            RELATIVE            RELATIVE                SISTER   \n",
       "3  en_4092.txt            RELATIVE            RELATIVE                SISTER   \n",
       "4  en_4093.txt              FRIEND              FRIEND                FRIEND   \n",
       "\n",
       "  Speaker B - Secondary Speaker A - NOTES Speaker B - NOTES   \\\n",
       "0                FRIEND  FRIEND/COLLEAGUE   FRIEND/COLLEAGUE   \n",
       "1                FRIEND            FRIEND             FRIEND   \n",
       "2                SISTER    SIBLING/SISTER     SIBLING/SISTER   \n",
       "3                SISTER    SIBLING/SISTER     SIBLING/SISTER   \n",
       "4                FRIEND            FRIEND             FRIEND   \n",
       "\n",
       "                              audio  \n",
       "0  ../_data/callhome/audio/4065.mp3  \n",
       "1  ../_data/callhome/audio/4074.mp3  \n",
       "2  ../_data/callhome/audio/4077.mp3  \n",
       "3  ../_data/callhome/audio/4092.mp3  \n",
       "4  ../_data/callhome/audio/4093.mp3  "
      ]
     },
     "execution_count": 18,
     "metadata": {},
     "output_type": "execute_result"
    }
   ],
   "source": [
    "count = 0\n",
    "\n",
    "for i, row in df.iterrows():\n",
    "    filename = row['Filename']\n",
    "\n",
    "    identifier = filename[3:-4]\n",
    "    if identifier + \".mp3\" in files:\n",
    "        count += 1\n",
    "\n",
    "        df.loc[i, 'audio'] = os.path.join(DATASET_PATH, 'audio', identifier + \".mp3\")\n",
    "\n",
    "print(\"Found\", count, \"files out of\", len(df), \"in the dataset.\")\n",
    "df.head()"
   ]
  },
  {
   "cell_type": "code",
   "execution_count": 19,
   "metadata": {},
   "outputs": [
    {
     "data": {
      "text/plain": [
       "Index(['Filename', 'Speaker A - Primary', 'Speaker B - Primary',\n",
       "       'Speaker A - Secondary', 'Speaker B - Secondary', 'Speaker A - NOTES',\n",
       "       'Speaker B - NOTES ', 'audio'],\n",
       "      dtype='object')"
      ]
     },
     "execution_count": 19,
     "metadata": {},
     "output_type": "execute_result"
    }
   ],
   "source": [
    "df.columns"
   ]
  },
  {
   "cell_type": "code",
   "execution_count": 20,
   "metadata": {},
   "outputs": [],
   "source": [
    "# Reorder columns so that audio is first\n",
    "df = df[['audio', 'Filename', 'Speaker A - Primary', 'Speaker B - Primary', 'Speaker A - Secondary', 'Speaker B - Secondary', 'Speaker A - NOTES', 'Speaker B - NOTES ']]\n",
    "\n",
    "# Rename \"Speaker B - NOTES \" to \"Speaker B - NOTES\"\n",
    "df = df.rename(columns={'Speaker B - NOTES ': 'Speaker B - NOTES'})"
   ]
  },
  {
   "cell_type": "code",
   "execution_count": 21,
   "metadata": {},
   "outputs": [
    {
     "data": {
      "text/html": [
       "<div>\n",
       "<style scoped>\n",
       "    .dataframe tbody tr th:only-of-type {\n",
       "        vertical-align: middle;\n",
       "    }\n",
       "\n",
       "    .dataframe tbody tr th {\n",
       "        vertical-align: top;\n",
       "    }\n",
       "\n",
       "    .dataframe thead th {\n",
       "        text-align: right;\n",
       "    }\n",
       "</style>\n",
       "<table border=\"1\" class=\"dataframe\">\n",
       "  <thead>\n",
       "    <tr style=\"text-align: right;\">\n",
       "      <th></th>\n",
       "      <th>audio</th>\n",
       "      <th>Filename</th>\n",
       "      <th>Speaker A - Primary</th>\n",
       "      <th>Speaker B - Primary</th>\n",
       "      <th>Speaker A - Secondary</th>\n",
       "      <th>Speaker B - Secondary</th>\n",
       "      <th>Speaker A - NOTES</th>\n",
       "      <th>Speaker B - NOTES</th>\n",
       "    </tr>\n",
       "  </thead>\n",
       "  <tbody>\n",
       "    <tr>\n",
       "      <th>0</th>\n",
       "      <td>../_data/callhome/audio/4065.mp3</td>\n",
       "      <td>en_4065.txt</td>\n",
       "      <td>FRIEND</td>\n",
       "      <td>FRIEND</td>\n",
       "      <td>FRIEND</td>\n",
       "      <td>FRIEND</td>\n",
       "      <td>FRIEND/COLLEAGUE</td>\n",
       "      <td>FRIEND/COLLEAGUE</td>\n",
       "    </tr>\n",
       "    <tr>\n",
       "      <th>1</th>\n",
       "      <td>../_data/callhome/audio/4074.mp3</td>\n",
       "      <td>en_4074.txt</td>\n",
       "      <td>FRIEND</td>\n",
       "      <td>FRIEND</td>\n",
       "      <td>FRIEND</td>\n",
       "      <td>FRIEND</td>\n",
       "      <td>FRIEND</td>\n",
       "      <td>FRIEND</td>\n",
       "    </tr>\n",
       "    <tr>\n",
       "      <th>2</th>\n",
       "      <td>../_data/callhome/audio/4077.mp3</td>\n",
       "      <td>en_4077.txt</td>\n",
       "      <td>RELATIVE</td>\n",
       "      <td>RELATIVE</td>\n",
       "      <td>SISTER</td>\n",
       "      <td>SISTER</td>\n",
       "      <td>SIBLING/SISTER</td>\n",
       "      <td>SIBLING/SISTER</td>\n",
       "    </tr>\n",
       "    <tr>\n",
       "      <th>3</th>\n",
       "      <td>../_data/callhome/audio/4092.mp3</td>\n",
       "      <td>en_4092.txt</td>\n",
       "      <td>RELATIVE</td>\n",
       "      <td>RELATIVE</td>\n",
       "      <td>SISTER</td>\n",
       "      <td>SISTER</td>\n",
       "      <td>SIBLING/SISTER</td>\n",
       "      <td>SIBLING/SISTER</td>\n",
       "    </tr>\n",
       "    <tr>\n",
       "      <th>4</th>\n",
       "      <td>../_data/callhome/audio/4093.mp3</td>\n",
       "      <td>en_4093.txt</td>\n",
       "      <td>FRIEND</td>\n",
       "      <td>FRIEND</td>\n",
       "      <td>FRIEND</td>\n",
       "      <td>FRIEND</td>\n",
       "      <td>FRIEND</td>\n",
       "      <td>FRIEND</td>\n",
       "    </tr>\n",
       "    <tr>\n",
       "      <th>...</th>\n",
       "      <td>...</td>\n",
       "      <td>...</td>\n",
       "      <td>...</td>\n",
       "      <td>...</td>\n",
       "      <td>...</td>\n",
       "      <td>...</td>\n",
       "      <td>...</td>\n",
       "      <td>...</td>\n",
       "    </tr>\n",
       "    <tr>\n",
       "      <th>115</th>\n",
       "      <td>../_data/callhome/audio/6479.mp3</td>\n",
       "      <td>en_6479.txt</td>\n",
       "      <td>FRIEND</td>\n",
       "      <td>FRIEND</td>\n",
       "      <td>FRIEND</td>\n",
       "      <td>FRIEND</td>\n",
       "      <td>FRIEND</td>\n",
       "      <td>FRIEND</td>\n",
       "    </tr>\n",
       "    <tr>\n",
       "      <th>116</th>\n",
       "      <td>../_data/callhome/audio/6521.mp3</td>\n",
       "      <td>en_6521.txt</td>\n",
       "      <td>FRIEND</td>\n",
       "      <td>FRIEND</td>\n",
       "      <td>FRIEND</td>\n",
       "      <td>FRIEND</td>\n",
       "      <td>FRIEND</td>\n",
       "      <td>FRIEND</td>\n",
       "    </tr>\n",
       "    <tr>\n",
       "      <th>117</th>\n",
       "      <td>../_data/callhome/audio/6625.mp3</td>\n",
       "      <td>en_6625.txt</td>\n",
       "      <td>FRIEND</td>\n",
       "      <td>FRIEND</td>\n",
       "      <td>FRIEND</td>\n",
       "      <td>FRIEND</td>\n",
       "      <td>FRIEND</td>\n",
       "      <td>FRIEND</td>\n",
       "    </tr>\n",
       "    <tr>\n",
       "      <th>118</th>\n",
       "      <td>../_data/callhome/audio/6785.mp3</td>\n",
       "      <td>en_6785.txt</td>\n",
       "      <td>FRIEND</td>\n",
       "      <td>FRIEND</td>\n",
       "      <td>FRIEND</td>\n",
       "      <td>FRIEND</td>\n",
       "      <td>FRIEND</td>\n",
       "      <td>FRIEND</td>\n",
       "    </tr>\n",
       "    <tr>\n",
       "      <th>119</th>\n",
       "      <td>../_data/callhome/audio/6825.mp3</td>\n",
       "      <td>en_6825.txt</td>\n",
       "      <td>FRIEND</td>\n",
       "      <td>FRIEND</td>\n",
       "      <td>FRIEND</td>\n",
       "      <td>FRIEND</td>\n",
       "      <td>CLASSMATE</td>\n",
       "      <td>CLASSMATE</td>\n",
       "    </tr>\n",
       "  </tbody>\n",
       "</table>\n",
       "<p>120 rows × 8 columns</p>\n",
       "</div>"
      ],
      "text/plain": [
       "                                audio     Filename Speaker A - Primary  \\\n",
       "0    ../_data/callhome/audio/4065.mp3  en_4065.txt              FRIEND   \n",
       "1    ../_data/callhome/audio/4074.mp3  en_4074.txt              FRIEND   \n",
       "2    ../_data/callhome/audio/4077.mp3  en_4077.txt            RELATIVE   \n",
       "3    ../_data/callhome/audio/4092.mp3  en_4092.txt            RELATIVE   \n",
       "4    ../_data/callhome/audio/4093.mp3  en_4093.txt              FRIEND   \n",
       "..                                ...          ...                 ...   \n",
       "115  ../_data/callhome/audio/6479.mp3  en_6479.txt              FRIEND   \n",
       "116  ../_data/callhome/audio/6521.mp3  en_6521.txt              FRIEND   \n",
       "117  ../_data/callhome/audio/6625.mp3  en_6625.txt              FRIEND   \n",
       "118  ../_data/callhome/audio/6785.mp3  en_6785.txt              FRIEND   \n",
       "119  ../_data/callhome/audio/6825.mp3  en_6825.txt              FRIEND   \n",
       "\n",
       "    Speaker B - Primary Speaker A - Secondary Speaker B - Secondary  \\\n",
       "0                FRIEND                FRIEND                FRIEND   \n",
       "1                FRIEND                FRIEND                FRIEND   \n",
       "2              RELATIVE                SISTER                SISTER   \n",
       "3              RELATIVE                SISTER                SISTER   \n",
       "4                FRIEND                FRIEND                FRIEND   \n",
       "..                  ...                   ...                   ...   \n",
       "115              FRIEND                FRIEND                FRIEND   \n",
       "116              FRIEND                FRIEND                FRIEND   \n",
       "117              FRIEND                FRIEND                FRIEND   \n",
       "118              FRIEND                FRIEND                FRIEND   \n",
       "119              FRIEND                FRIEND                FRIEND   \n",
       "\n",
       "    Speaker A - NOTES Speaker B - NOTES  \n",
       "0    FRIEND/COLLEAGUE  FRIEND/COLLEAGUE  \n",
       "1              FRIEND            FRIEND  \n",
       "2      SIBLING/SISTER    SIBLING/SISTER  \n",
       "3      SIBLING/SISTER    SIBLING/SISTER  \n",
       "4              FRIEND            FRIEND  \n",
       "..                ...               ...  \n",
       "115            FRIEND            FRIEND  \n",
       "116            FRIEND            FRIEND  \n",
       "117            FRIEND            FRIEND  \n",
       "118            FRIEND            FRIEND  \n",
       "119         CLASSMATE         CLASSMATE  \n",
       "\n",
       "[120 rows x 8 columns]"
      ]
     },
     "execution_count": 21,
     "metadata": {},
     "output_type": "execute_result"
    }
   ],
   "source": [
    "df"
   ]
  },
  {
   "cell_type": "code",
   "execution_count": 22,
   "metadata": {},
   "outputs": [],
   "source": [
    "audio_dataset = Dataset.from_pandas(df).cast_column(\"audio\", Audio())"
   ]
  },
  {
   "cell_type": "code",
   "execution_count": 23,
   "metadata": {},
   "outputs": [
    {
     "data": {
      "text/plain": [
       "Dataset({\n",
       "    features: ['audio', 'Filename', 'Speaker A - Primary', 'Speaker B - Primary', 'Speaker A - Secondary', 'Speaker B - Secondary', 'Speaker A - NOTES', 'Speaker B - NOTES'],\n",
       "    num_rows: 120\n",
       "})"
      ]
     },
     "execution_count": 23,
     "metadata": {},
     "output_type": "execute_result"
    }
   ],
   "source": [
    "audio_dataset"
   ]
  },
  {
   "cell_type": "code",
   "execution_count": 24,
   "metadata": {},
   "outputs": [
    {
     "name": "stderr",
     "output_type": "stream",
     "text": [
      "Map: 100%|██████████| 30/30 [00:00<00:00, 67.41 examples/s], ?it/s]\n",
      "Creating parquet from Arrow format: 100%|██████████| 1/1 [00:00<00:00,  1.55ba/s]\n",
      "Map: 100%|██████████| 30/30 [00:00<00:00, 73.47 examples/s]4:20, 86.70s/it]\n",
      "Creating parquet from Arrow format: 100%|██████████| 1/1 [00:00<00:00,  1.65ba/s]\n",
      "Map: 100%|██████████| 30/30 [00:00<00:00, 61.04 examples/s]2:44, 82.21s/it]\n",
      "Creating parquet from Arrow format: 100%|██████████| 1/1 [00:00<00:00,  2.56ba/s]\n",
      "Map: 100%|██████████| 30/30 [00:00<00:00, 73.30 examples/s]1:14, 74.19s/it]\n",
      "Creating parquet from Arrow format: 100%|██████████| 1/1 [00:00<00:00,  2.24ba/s]\n",
      "Uploading the dataset shards: 100%|██████████| 4/4 [05:02<00:00, 75.56s/it]\n"
     ]
    },
    {
     "data": {
      "text/plain": [
       "CommitInfo(commit_url='https://huggingface.co/datasets/SALT-NLP/Callhome_relationships/commit/eae50f76d1f5dfda2fc2c0c95988385f4e1ed7c5', commit_message='Upload dataset', commit_description='', oid='eae50f76d1f5dfda2fc2c0c95988385f4e1ed7c5', pr_url=None, pr_revision=None, pr_num=None)"
      ]
     },
     "execution_count": 24,
     "metadata": {},
     "output_type": "execute_result"
    }
   ],
   "source": [
    "audio_dataset.push_to_hub(\"SALT-NLP/Callhome_relationships\", private=True, token=os.getenv(\"HF_TOKEN\"))"
   ]
  },
  {
   "cell_type": "code",
   "execution_count": 25,
   "metadata": {},
   "outputs": [
    {
     "name": "stderr",
     "output_type": "stream",
     "text": [
      "Map: 100%|██████████| 30/30 [00:00<00:00, 73.77 examples/s], ?it/s]\n",
      "Creating parquet from Arrow format: 100%|██████████| 1/1 [00:01<00:00,  1.01s/ba]\n",
      "Map: 100%|██████████| 30/30 [00:00<00:00, 70.60 examples/s]3:07, 62.58s/it]\n",
      "Creating parquet from Arrow format: 100%|██████████| 1/1 [00:00<00:00,  1.43ba/s]\n",
      "Map: 100%|██████████| 30/30 [00:00<00:00, 55.01 examples/s]2:02, 61.42s/it]\n",
      "Creating parquet from Arrow format: 100%|██████████| 1/1 [00:00<00:00,  1.27ba/s]\n",
      "Map: 100%|██████████| 30/30 [00:00<00:00, 70.24 examples/s]1:01, 61.17s/it]\n",
      "Creating parquet from Arrow format: 100%|██████████| 1/1 [00:00<00:00,  1.39ba/s]\n",
      "Uploading the dataset shards: 100%|██████████| 4/4 [04:02<00:00, 60.71s/it]\n"
     ]
    },
    {
     "data": {
      "text/plain": [
       "CommitInfo(commit_url='https://huggingface.co/datasets/MichaelR207/Callhome_relationships/commit/c65ada1296762eb87725186bce0dc27d2a55e1e0', commit_message='Upload dataset', commit_description='', oid='c65ada1296762eb87725186bce0dc27d2a55e1e0', pr_url=None, pr_revision=None, pr_num=None)"
      ]
     },
     "execution_count": 25,
     "metadata": {},
     "output_type": "execute_result"
    }
   ],
   "source": [
    "audio_dataset.push_to_hub(\"MichaelR207/Callhome_relationships\", private=True, token=os.getenv(\"HF_TOKEN\"))"
   ]
  }
 ],
 "metadata": {
  "kernelspec": {
   "display_name": "via",
   "language": "python",
   "name": "python3"
  },
  "language_info": {
   "codemirror_mode": {
    "name": "ipython",
    "version": 3
   },
   "file_extension": ".py",
   "mimetype": "text/x-python",
   "name": "python",
   "nbconvert_exporter": "python",
   "pygments_lexer": "ipython3",
   "version": "3.12.3"
  }
 },
 "nbformat": 4,
 "nbformat_minor": 2
}
